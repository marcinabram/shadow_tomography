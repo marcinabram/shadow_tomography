{
 "cells": [
  {
   "cell_type": "code",
   "execution_count": 1,
   "id": "58f950b8-3ba9-48c0-9f1d-1ba2e7c4721d",
   "metadata": {},
   "outputs": [],
   "source": [
    "import collections\n",
    "import time\n",
    "\n",
    "import numpy\n",
    "import pandas\n",
    "\n",
    "import qiskit\n",
    "import qiskit.circuit.random\n",
    "import qiskit_aer\n",
    "\n",
    "from matplotlib import pyplot as plt\n",
    "%matplotlib inline"
   ]
  },
  {
   "cell_type": "markdown",
   "id": "d67ce673",
   "metadata": {},
   "source": [
    "## Create Random Circuits"
   ]
  },
  {
   "cell_type": "code",
   "execution_count": 2,
   "id": "aaf1f604",
   "metadata": {},
   "outputs": [
    {
     "data": {
      "text/html": [
       "<pre style=\"word-wrap: normal;white-space: pre;background: #fff0;line-height: 1.1;font-family: &quot;Courier New&quot;,Courier,monospace\">     ┌───────────────────────┐┌─────────────────────────┐   \n",
       "q_0: ┤ U2(0.60812,0.0056047) ├┤1                        ├─■─\n",
       "     └─────────┬───┬─────────┘│  (XX+YY)(5.1079,1.0226) │ │ \n",
       "q_1: ──────────┤ S ├──────────┤0                        ├─■─\n",
       "        ┌──────┴───┴───────┐  └──────────┬───┬──────────┘ │ \n",
       "q_2: ───┤ R(5.8748,5.9491) ├─────────────┤ T ├────────────■─\n",
       "        └──────────────────┘             └───┘              </pre>"
      ],
      "text/plain": [
       "     ┌───────────────────────┐┌─────────────────────────┐   \n",
       "q_0: ┤ U2(0.60812,0.0056047) ├┤1                        ├─■─\n",
       "     └─────────┬───┬─────────┘│  (XX+YY)(5.1079,1.0226) │ │ \n",
       "q_1: ──────────┤ S ├──────────┤0                        ├─■─\n",
       "        ┌──────┴───┴───────┐  └──────────┬───┬──────────┘ │ \n",
       "q_2: ───┤ R(5.8748,5.9491) ├─────────────┤ T ├────────────■─\n",
       "        └──────────────────┘             └───┘              "
      ]
     },
     "execution_count": 2,
     "metadata": {},
     "output_type": "execute_result"
    }
   ],
   "source": [
    "random_circ = qiskit.circuit.random.random_circuit(\n",
    "    num_qubits=3, depth=3, max_operands=4, measure=False, seed=35)\n",
    "random_circ.draw(style='iqp')"
   ]
  },
  {
   "cell_type": "code",
   "execution_count": 3,
   "id": "47d7aff4",
   "metadata": {},
   "outputs": [],
   "source": [
    "standard_gates = qiskit.circuit.library.standard_gates\n",
    "\n",
    "_basis_gate_set_1q = [\n",
    "    (standard_gates.HGate, 1, 0),\n",
    "    (standard_gates.RXGate, 1, 1),\n",
    "    (standard_gates.RYGate, 1, 1),\n",
    "    (standard_gates.RZGate, 1, 1),\n",
    "]\n",
    "\n",
    "_basis_gate_set_2q = [    \n",
    "    (standard_gates.CXGate, 2, 0),\n",
    "    (standard_gates.CYGate, 2, 0),\n",
    "    (standard_gates.CZGate, 2, 0),\n",
    "    (standard_gates.SwapGate, 2, 0),\n",
    "]\n",
    "\n",
    "_basis_gate_set_3q = [(standard_gates.CCXGate, 3, 0),]\n",
    "\n",
    "basis_gate_set = {\n",
    "    \"1q\": _basis_gate_set_1q,\n",
    "    \"2q\": _basis_gate_set_2q,\n",
    "    \"3q\": _basis_gate_set_3q\n",
    "}"
   ]
  },
  {
   "cell_type": "code",
   "execution_count": 4,
   "id": "c038b571",
   "metadata": {},
   "outputs": [],
   "source": [
    "def get_basic_random_circuit(num_qubits, depth, gate_set, max_operands=4, measure=False, seed=None):\n",
    "    \"\"\"Generate random circuit of arbitrary size and form, given the allowed set of gates.\n",
    "    \n",
    "    Adopted from https://github.com/Qiskit/qiskit/blob/stable/1.0/qiskit/circuit/random/utils.py\n",
    "\n",
    "    Args:\n",
    "        num_qubits (int): number of quantum wires\n",
    "        depth (int): layers of operations (i.e. critical path length)\n",
    "        gate_set (dict): keys specified as '(n)q', e.g. 1q or 2q, 3q, 4q for and multi-qubit gates\n",
    "        max_operands (int): maximum qubit operands of each gate (between 1 and 4)\n",
    "        measure (bool): if True, measure all qubits at the end\n",
    "        seed (int): sets random seed (optional)\n",
    "\n",
    "    Returns:\n",
    "        QuantumCircuit: constructed circuit\n",
    "\n",
    "    Raises:\n",
    "        CircuitError: when invalid options given\n",
    "    \"\"\"\n",
    "    np = numpy\n",
    "    ClassicalRegister = qiskit.circuit.ClassicalRegister\n",
    "    QuantumCircuit = qiskit.circuit.QuantumCircuit\n",
    "    CircuitInstruction = qiskit.circuit.CircuitInstruction\n",
    "    CircuitError = qiskit.circuit.exceptions.CircuitError\n",
    "    \n",
    "    if num_qubits == 0:\n",
    "        return QuantumCircuit()\n",
    "    if max_operands < 1 or max_operands > 4:\n",
    "        raise CircuitError(\"max_operands must be between 1 and 4\")\n",
    "    max_operands = max_operands if num_qubits > max_operands else num_qubits\n",
    "\n",
    "    gates_1q = gate_set.get(\"1q\")\n",
    "    gates_2q = gate_set.get(\"2q\")\n",
    "    gates_3q = gate_set.get(\"3q\")\n",
    "    gates_4q = gate_set.get(\"4q\")\n",
    "\n",
    "    gates = gates_1q.copy()\n",
    "    if max_operands >= 2 and gates_2q != None:\n",
    "        gates.extend(gates_2q)\n",
    "    if max_operands >= 3 and gates_3q != None:\n",
    "        gates.extend(gates_3q)\n",
    "    if max_operands >= 4 and gates_4q != None:\n",
    "        gates.extend(gates_4q)\n",
    "        \n",
    "    gates = np.array(\n",
    "        gates, dtype=[(\"class\", object), (\"num_qubits\", np.int64), (\"num_params\", np.int64)]\n",
    "    )\n",
    "    gates_1q = np.array(gates_1q, dtype=gates.dtype)\n",
    "\n",
    "    qc = QuantumCircuit(num_qubits)\n",
    "\n",
    "    if measure:\n",
    "        cr = ClassicalRegister(num_qubits, \"c\")\n",
    "        qc.add_register(cr)\n",
    "\n",
    "    if seed is None:\n",
    "        seed = np.random.randint(0, np.iinfo(np.int32).max)\n",
    "    rng = np.random.default_rng(seed)\n",
    "\n",
    "    qubits = np.array(qc.qubits, dtype=object, copy=True)\n",
    "\n",
    "    # Apply arbitrary random operations in layers across all qubits.\n",
    "    for layer_number in range(depth):\n",
    "        # We generate all the randomness for the layer in one go.\n",
    "        gate_specs = rng.choice(gates, size=len(qubits))\n",
    "        \n",
    "        cumulative_qubits = np.cumsum(gate_specs[\"num_qubits\"], dtype=np.int64)\n",
    "        # Efficiently find the point in the list where the total gates would use as many as\n",
    "        # possible of, but not more than, the number of qubits in the layer.\n",
    "        # If there's slack, fill it with 1q gates.\n",
    "        max_index = np.searchsorted(cumulative_qubits, num_qubits, side=\"right\")\n",
    "        gate_specs = gate_specs[:max_index]\n",
    "        slack = num_qubits - cumulative_qubits[max_index - 1]\n",
    "        if slack:\n",
    "            gate_specs = np.hstack((gate_specs, rng.choice(gates_1q, size=slack)))\n",
    "\n",
    "        # For efficiency in the Python loop, this uses Numpy vectorisation to pre-calculate the\n",
    "        # indices into the lists of qubits and parameters for every gate, and then suitably\n",
    "        # randomises those lists.\n",
    "        q_indices = np.empty(len(gate_specs) + 1, dtype=np.int64)\n",
    "        p_indices = np.empty(len(gate_specs) + 1, dtype=np.int64)\n",
    "        q_indices[0] = p_indices[0] = 0\n",
    "        np.cumsum(gate_specs[\"num_qubits\"], out=q_indices[1:])\n",
    "        np.cumsum(gate_specs[\"num_params\"], out=p_indices[1:])\n",
    "        parameters = rng.uniform(0, 2 * np.pi, size=p_indices[-1])\n",
    "        rng.shuffle(qubits)\n",
    "\n",
    "        # We've now generated everything we're going to need.  Now just to add everything.\n",
    "        for gate, q_start, q_end, p_start, p_end in zip(\n",
    "            gate_specs[\"class\"], q_indices[:-1], q_indices[1:], p_indices[:-1], p_indices[1:]\n",
    "        ):\n",
    "            operation = gate(*parameters[p_start:p_end])\n",
    "            qc._append(CircuitInstruction(operation=operation, qubits=qubits[q_start:q_end]))\n",
    "\n",
    "    if measure:\n",
    "        qc.measure(qc.qubits, cr)\n",
    "\n",
    "    return qc"
   ]
  },
  {
   "cell_type": "code",
   "execution_count": 5,
   "id": "fd29bbba",
   "metadata": {},
   "outputs": [
    {
     "data": {
      "text/html": [
       "<pre style=\"word-wrap: normal;white-space: pre;background: #fff0;line-height: 1.1;font-family: &quot;Courier New&quot;,Courier,monospace\">                         ┌───┐┌────────────┐                        \n",
       "q_0: ───────────────X────┤ X ├┤ Rz(2.5664) ├───────────■────────────\n",
       "     ┌────────────┐ │    └─┬─┘└────────────┘┌───┐      │       ┌───┐\n",
       "q_1: ┤ Rx(2.0291) ├─┼──X───┼────────────────┤ X ├──────┼───────┤ H ├\n",
       "     └────────────┘ │  │   │                └─┬─┘      │       ├───┤\n",
       "q_2: ───────────────X──┼───■────────X─────────┼────────┼───────┤ H ├\n",
       "                       │   │        │         │        │       └───┘\n",
       "q_3: ──────X───────────X───┼────────X─────────┼────────■────────────\n",
       "           │               │                  │  ┌────────────┐     \n",
       "q_4: ──────X───────────────■──────────────────■──┤ Rx(5.6852) ├─────\n",
       "                                                 └────────────┘     </pre>"
      ],
      "text/plain": [
       "                         ┌───┐┌────────────┐                        \n",
       "q_0: ───────────────X────┤ X ├┤ Rz(2.5664) ├───────────■────────────\n",
       "     ┌────────────┐ │    └─┬─┘└────────────┘┌───┐      │       ┌───┐\n",
       "q_1: ┤ Rx(2.0291) ├─┼──X───┼────────────────┤ X ├──────┼───────┤ H ├\n",
       "     └────────────┘ │  │   │                └─┬─┘      │       ├───┤\n",
       "q_2: ───────────────X──┼───■────────X─────────┼────────┼───────┤ H ├\n",
       "                       │   │        │         │        │       └───┘\n",
       "q_3: ──────X───────────X───┼────────X─────────┼────────■────────────\n",
       "           │               │                  │  ┌────────────┐     \n",
       "q_4: ──────X───────────────■──────────────────■──┤ Rx(5.6852) ├─────\n",
       "                                                 └────────────┘     "
      ]
     },
     "execution_count": 5,
     "metadata": {},
     "output_type": "execute_result"
    }
   ],
   "source": [
    "basic_circ = get_basic_random_circuit(\n",
    "    num_qubits=5, depth=4, gate_set=basis_gate_set, max_operands=4, measure=False, seed=32)\n",
    "basic_circ.draw(style='iqp')"
   ]
  },
  {
   "cell_type": "markdown",
   "id": "a8fb076c",
   "metadata": {},
   "source": [
    "## Shadow Tomography "
   ]
  },
  {
   "cell_type": "code",
   "execution_count": 6,
   "id": "099fa9cb",
   "metadata": {
    "scrolled": false
   },
   "outputs": [
    {
     "data": {
      "text/plain": [
       "[(0, 1, 0, 1, 0),\n",
       " (1, 0, 1, 1, 0),\n",
       " (0, 1, 0, 0, 0),\n",
       " (0, 0, 0, 0, 0),\n",
       " (0, 0, 1, 1, 0),\n",
       " (0, 0, 1, 1, 0),\n",
       " (0, 0, 1, 1, 0),\n",
       " (0, 0, 1, 0, 0),\n",
       " (1, 0, 0, 0, 0),\n",
       " (1, 0, 0, 0, 0)]"
      ]
     },
     "execution_count": 6,
     "metadata": {},
     "output_type": "execute_result"
    }
   ],
   "source": [
    "def shadow(circuit, shots=1, base='zzz'):\n",
    "    \"\"\"Make measurements using shadow tomography.\"\"\"\n",
    "    assert len(base) == len(circuit.qubits)\n",
    "    circ = circuit.copy()\n",
    "\n",
    "    # add rotations to measure in a given base\n",
    "    for i, b in enumerate(base):\n",
    "        if b == 'y':\n",
    "            circ.sdg(i)\n",
    "            circ.h(i)\n",
    "        elif b == 'x':\n",
    "            circ.h(i)\n",
    "        elif b == 'z':\n",
    "            pass\n",
    "        else:\n",
    "            raise KeyError\n",
    "            \n",
    "    # map the quantum measurement to the classical bits\n",
    "    cr = qiskit.circuit.ClassicalRegister(circ.num_qubits, \"c\")\n",
    "    circ.add_register(cr)\n",
    "    circ.measure(circ.qubits, cr)\n",
    "    \n",
    "    # Use Aer's qasm_simulator\n",
    "    backend_sim = qiskit_aer.Aer.get_backend('qasm_simulator')\n",
    "\n",
    "    # Execute the circuit on the qasm simulator.\n",
    "    job_sim = backend_sim.run(qiskit.transpile(circ, backend_sim), shots=shots)\n",
    "\n",
    "    counts = job_sim.result().get_counts(circ)\n",
    "    counts = {tuple([int(i) for i in k]): v for k, v in counts.items()}    \n",
    "    results = [k for k, v in counts.items() for _ in range(v)]\n",
    "    \n",
    "    return results\n",
    "\n",
    "# test\n",
    "shadow(basic_circ, shots=10, base='zzzxx')"
   ]
  },
  {
   "cell_type": "markdown",
   "id": "8067f7cf",
   "metadata": {},
   "source": [
    "## Main Measurements (qubits 5, depth x, n 100)"
   ]
  },
  {
   "cell_type": "code",
   "execution_count": 7,
   "id": "db338d3f",
   "metadata": {},
   "outputs": [],
   "source": [
    "def measure(circ1, circ2, n=100):\n",
    "    \"\"\"Measure two circuits.\"\"\"\n",
    "    assert len(circ1.qubits) == len(circ2.qubits)\n",
    "    size = len(circ1.qubits)\n",
    "    \n",
    "    result = []\n",
    "    for base in numpy.random.choice(['x', 'y', 'z'], size=size*n).reshape(-1, size):\n",
    "        s1 = shadow(circ1, shots=2, base=base)\n",
    "        s2 = shadow(circ2, shots=2, base=base)\n",
    "        result.append({'base': base, 'c1': s1[0], 'c2': s2[0], 'c1bis': s1[1], 'c2bis': s2[1]})\n",
    "    return pandas.DataFrame(result)"
   ]
  },
  {
   "cell_type": "code",
   "execution_count": 8,
   "id": "aa80d800",
   "metadata": {},
   "outputs": [],
   "source": [
    "results = []\n",
    "for i in range(1, 25):\n",
    "    circ1 = get_basic_random_circuit(num_qubits=i, depth=10, gate_set=basis_gate_set)\n",
    "    circ2 = get_basic_random_circuit(num_qubits=i, depth=10, gate_set=basis_gate_set)\n",
    "    m = measure(circ1, circ2, n=100)\n",
    "    results.append(m)    "
   ]
  },
  {
   "cell_type": "code",
   "execution_count": 10,
   "id": "61758c37",
   "metadata": {},
   "outputs": [
    {
     "data": {
      "text/plain": [
       "0.505"
      ]
     },
     "execution_count": 10,
     "metadata": {},
     "output_type": "execute_result"
    }
   ],
   "source": [
    "def simple_agreement(c1, c2):\n",
    "    \"\"\"Measure the agreement.\"\"\"\n",
    "    assert len(c1) == len(c2)\n",
    "    r = [ai == bi for a, b in zip(c1.iloc, c2.iloc) for ai, bi in zip(a, b)]\n",
    "    return numpy.array(r, dtype='int32').mean()\n",
    "\n",
    "simple_agreement(results[5]['c1'], results[5]['c1bis'])"
   ]
  },
  {
   "cell_type": "code",
   "execution_count": 14,
   "id": "331a6b2f",
   "metadata": {},
   "outputs": [
    {
     "data": {
      "image/png": "[encoded data removed]",
      "text/plain": [
       "<Figure size 640x480 with 1 Axes>"
      ]
     },
     "metadata": {},
     "output_type": "display_data"
    }
   ],
   "source": [
    "# the same\n",
    "x = list(range(1, 25))\n",
    "same = numpy.array([simple_agreement(results[i]['c1'], results[i]['c1bis']) for i in range(24)])\n",
    "diff = numpy.array([simple_agreement(results[i]['c1'], results[i]['c2']) for i in range(24)])\n",
    "\n",
    "plt.plot(x, same - diff, color='black', linewidth=2, label='gap: \"the same - different\"')\n",
    "\n",
    "plt.axhline(y=0, color='tab:red', linestyle='-')\n",
    "\n",
    "plt.legend()\n",
    "plt.title('# of qubits: 5, shots: 100')\n",
    "plt.xlabel('# of qubits')\n",
    "plt.ylabel('gap')\n",
    "plt.show()"
   ]
  },
  {
   "cell_type": "markdown",
   "id": "1051a7a5",
   "metadata": {},
   "source": [
    "## qiskit.quantum_info.hellinger_fidelity"
   ]
  },
  {
   "cell_type": "code",
   "execution_count": 15,
   "id": "f89b36fd",
   "metadata": {},
   "outputs": [
    {
     "data": {
      "text/plain": [
       "0.9974423042781577"
      ]
     },
     "metadata": {},
     "output_type": "display_data"
    },
    {
     "data": {
      "text/plain": [
       "0.9025941969931681"
      ]
     },
     "metadata": {},
     "output_type": "display_data"
    }
   ],
   "source": [
    "count = lambda r: collections.Counter([''.join([str(s) for s in s]) for s in r])\n",
    "\n",
    "display(qiskit.quantum_info.hellinger_fidelity(count(results[0]['c1']), count(results[0]['c1bis'])))\n",
    "display(qiskit.quantum_info.hellinger_fidelity(count(results[0]['c1']), count(results[0]['c2'])))"
   ]
  },
  {
   "cell_type": "code",
   "execution_count": 16,
   "id": "79868aa2",
   "metadata": {},
   "outputs": [],
   "source": [
    "def simple_hellinger(df):\n",
    "    fidelity = qiskit.quantum_info.hellinger_fidelity\n",
    "    same = fidelity(count(df['c1'].iloc[:i]), count(df['c1bis'].iloc[:i]))\n",
    "    diff = fidelity(count(df['c1'].iloc[:i]), count(df['c2'].iloc[:i]))\n",
    "    return same - diff"
   ]
  },
  {
   "cell_type": "code",
   "execution_count": 19,
   "id": "50b0957b",
   "metadata": {},
   "outputs": [
    {
     "data": {
      "image/png": "[encoded data removed]",
      "text/plain": [
       "<Figure size 640x480 with 1 Axes>"
      ]
     },
     "metadata": {},
     "output_type": "display_data"
    }
   ],
   "source": [
    "# the same\n",
    "x = list(range(1, 25))\n",
    "gap = numpy.array([simple_hellinger(results[i]) for i in range(24)])\n",
    "\n",
    "plt.plot(x, gap, color='black', linewidth=2, label='gap: \"the same - different\"')\n",
    "\n",
    "plt.axhline(y=0, color='tab:red', linestyle='-')\n",
    "\n",
    "plt.legend()\n",
    "plt.title('# of qubits: 5, shots: 100')\n",
    "plt.xlabel('# of qubits')\n",
    "plt.ylabel('hellinger fidelity gap')\n",
    "plt.show()"
   ]
  }
 ],
 "metadata": {
  "kernelspec": {
   "display_name": "Python 3 (ipykernel)",
   "language": "python",
   "name": "python3"
  },
  "language_info": {
   "codemirror_mode": {
    "name": "ipython",
    "version": 3
   },
   "file_extension": ".py",
   "mimetype": "text/x-python",
   "name": "python",
   "nbconvert_exporter": "python",
   "pygments_lexer": "ipython3",
   "version": "3.10.12"
  }
 },
 "nbformat": 4,
 "nbformat_minor": 5
}
