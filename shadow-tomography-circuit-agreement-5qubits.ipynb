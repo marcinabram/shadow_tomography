{
 "cells": [
  {
   "cell_type": "code",
   "execution_count": 1,
   "id": "58f950b8-3ba9-48c0-9f1d-1ba2e7c4721d",
   "metadata": {},
   "outputs": [
    {
     "name": "stderr",
     "output_type": "stream",
     "text": [
      "/tmp/ipykernel_51053/824455318.py:7: DeprecationWarning: \n",
      "Pyarrow will become a required dependency of pandas in the next major release of pandas (pandas 3.0),\n",
      "(to allow more performant data types, such as the Arrow string type, and better interoperability with other libraries)\n",
      "but was not found to be installed on your system.\n",
      "If this would cause problems for you,\n",
      "please provide us feedback at https://github.com/pandas-dev/pandas/issues/54466\n",
      "        \n",
      "  import pandas\n"
     ]
    }
   ],
   "source": [
    "import collections\n",
    "import qiskit\n",
    "import qiskit_aer\n",
    "import time\n",
    "\n",
    "import numpy\n",
    "import pandas\n",
    "\n",
    "from matplotlib import pyplot as plt\n",
    "%matplotlib inline"
   ]
  },
  {
   "cell_type": "markdown",
   "id": "2cd1a77c-6721-4abc-9bd1-6e3830f7fe64",
   "metadata": {},
   "source": [
    "## Quantum Circut (1)"
   ]
  },
  {
   "cell_type": "code",
   "execution_count": 2,
   "id": "b7850733-e451-43d8-a4ae-54ef4fe208f9",
   "metadata": {},
   "outputs": [],
   "source": [
    "def get_circuit1():\n",
    "    \"\"\"Create the first circuit.\"\"\"\n",
    "    qreg_q = qiskit.QuantumRegister(5, 'q')\n",
    "    creg_c = qiskit.ClassicalRegister(5, 'c')\n",
    "    circuit = qiskit.QuantumCircuit(qreg_q, creg_c)\n",
    "\n",
    "    circuit.h(qreg_q[1])\n",
    "    circuit.h(qreg_q[4])\n",
    "    circuit.h(qreg_q[2])\n",
    "    circuit.h(qreg_q[0])\n",
    "    circuit.ccx(qreg_q[1], qreg_q[3], qreg_q[4])\n",
    "    circuit.h(qreg_q[1])\n",
    "    circuit.h(qreg_q[4])\n",
    "    circuit.ccx(qreg_q[0], qreg_q[1], qreg_q[2])\n",
    "    circuit.ccx(qreg_q[2], qreg_q[3], qreg_q[4])\n",
    "\n",
    "    return circuit"
   ]
  },
  {
   "cell_type": "code",
   "execution_count": 3,
   "id": "65923728-1b2b-4736-b448-ec8ec1db8bc6",
   "metadata": {},
   "outputs": [
    {
     "data": {
      "text/html": [
       "<pre style=\"word-wrap: normal;white-space: pre;background: #fff0;line-height: 1.1;font-family: &quot;Courier New&quot;,Courier,monospace\">     ┌───┐                    \n",
       "q_0: ┤ H ├────────────■───────\n",
       "     ├───┤     ┌───┐  │       \n",
       "q_1: ┤ H ├──■──┤ H ├──■───────\n",
       "     ├───┤  │  └───┘┌─┴─┐     \n",
       "q_2: ┤ H ├──┼───────┤ X ├──■──\n",
       "     └───┘  │       └───┘  │  \n",
       "q_3: ───────■──────────────■──\n",
       "     ┌───┐┌─┴─┐┌───┐     ┌─┴─┐\n",
       "q_4: ┤ H ├┤ X ├┤ H ├─────┤ X ├\n",
       "     └───┘└───┘└───┘     └───┘\n",
       "c: 5/═════════════════════════\n",
       "                              </pre>"
      ],
      "text/plain": [
       "     ┌───┐                    \n",
       "q_0: ┤ H ├────────────■───────\n",
       "     ├───┤     ┌───┐  │       \n",
       "q_1: ┤ H ├──■──┤ H ├──■───────\n",
       "     ├───┤  │  └───┘┌─┴─┐     \n",
       "q_2: ┤ H ├──┼───────┤ X ├──■──\n",
       "     └───┘  │       └───┘  │  \n",
       "q_3: ───────■──────────────■──\n",
       "     ┌───┐┌─┴─┐┌───┐     ┌─┴─┐\n",
       "q_4: ┤ H ├┤ X ├┤ H ├─────┤ X ├\n",
       "     └───┘└───┘└───┘     └───┘\n",
       "c: 5/═════════════════════════\n",
       "                              "
      ]
     },
     "execution_count": 3,
     "metadata": {},
     "output_type": "execute_result"
    }
   ],
   "source": [
    "# Visualise\n",
    "circ1 = get_circuit1()\n",
    "circ1.draw(style='iqp')"
   ]
  },
  {
   "cell_type": "markdown",
   "id": "5935bc15-f557-42e8-9f8c-0e7e4de75292",
   "metadata": {},
   "source": [
    "## Quantum Circuit (2)"
   ]
  },
  {
   "cell_type": "code",
   "execution_count": 4,
   "id": "facbe5ed-512f-4b38-84f7-b8c7ff19d818",
   "metadata": {},
   "outputs": [],
   "source": [
    "def get_circuit2():\n",
    "    \"\"\"Create the first circuit.\"\"\"\n",
    "    qreg_q = qiskit.QuantumRegister(5, 'q')\n",
    "    creg_c = qiskit.ClassicalRegister(5, 'c')\n",
    "    circuit = qiskit.QuantumCircuit(qreg_q, creg_c)\n",
    "    pi = numpy.pi\n",
    "    \n",
    "    circuit.rccx(qreg_q[0], qreg_q[1], qreg_q[2])\n",
    "    circuit.tdg(qreg_q[4])\n",
    "    circuit.sx(qreg_q[4])\n",
    "    circuit.ccx(qreg_q[3], qreg_q[1], qreg_q[0])\n",
    "    circuit.sx(qreg_q[2])\n",
    "    circuit.h(qreg_q[0])\n",
    "    circuit.swap(qreg_q[3], qreg_q[4])\n",
    "    circuit.sdg(qreg_q[1])\n",
    "    circuit.t(qreg_q[2])\n",
    "    circuit.tdg(qreg_q[0])\n",
    "    circuit.u(pi / 2, pi / 2, pi / 2, qreg_q[1])\n",
    "    circuit.u(pi / 2, pi / 2, pi / 2, qreg_q[3])\n",
    "    circuit.rxx(2.31, qreg_q[2], qreg_q[4])\n",
    "    circuit.u(pi / 2, pi / 2, pi / 2, qreg_q[0])\n",
    "    circuit.cx(qreg_q[4], qreg_q[0])\n",
    "\n",
    "    return circuit"
   ]
  },
  {
   "cell_type": "code",
   "execution_count": 5,
   "id": "a1d07ece-f80b-4498-b9e8-f67931305178",
   "metadata": {},
   "outputs": [
    {
     "data": {
      "text/html": [
       "<pre style=\"word-wrap: normal;white-space: pre;background: #fff0;line-height: 1.1;font-family: &quot;Courier New&quot;,Courier,monospace\">     ┌───────┐┌───┐  ┌───┐      ┌─────┐      ┌────────────────┐┌───┐\n",
       "q_0: ┤0      ├┤ X ├──┤ H ├──────┤ Tdg ├──────┤ U(π/2,π/2,π/2) ├┤ X ├\n",
       "     │       │└─┬─┘ ┌┴───┴┐┌────┴─────┴─────┐└────────────────┘└─┬─┘\n",
       "q_1: ┤1 Rccx ├──■───┤ Sdg ├┤ U(π/2,π/2,π/2) ├────────────────────┼──\n",
       "     │       │  │   └┬────┤└─────┬───┬──────┘  ┌────────────┐    │  \n",
       "q_2: ┤2      ├──┼────┤ √X ├──────┤ T ├─────────┤0           ├────┼──\n",
       "     └───────┘  │    └────┘┌─────┴───┴──────┐  │            │    │  \n",
       "q_3: ───────────■──────X───┤ U(π/2,π/2,π/2) ├──┤  Rxx(2.31) ├────┼──\n",
       "      ┌─────┐ ┌────┐   │   └────────────────┘  │            │    │  \n",
       "q_4: ─┤ Tdg ├─┤ √X ├───X───────────────────────┤1           ├────■──\n",
       "      └─────┘ └────┘                           └────────────┘       \n",
       "c: 5/═══════════════════════════════════════════════════════════════\n",
       "                                                                    </pre>"
      ],
      "text/plain": [
       "     ┌───────┐┌───┐  ┌───┐      ┌─────┐      ┌────────────────┐┌───┐\n",
       "q_0: ┤0      ├┤ X ├──┤ H ├──────┤ Tdg ├──────┤ U(π/2,π/2,π/2) ├┤ X ├\n",
       "     │       │└─┬─┘ ┌┴───┴┐┌────┴─────┴─────┐└────────────────┘└─┬─┘\n",
       "q_1: ┤1 Rccx ├──■───┤ Sdg ├┤ U(π/2,π/2,π/2) ├────────────────────┼──\n",
       "     │       │  │   └┬────┤└─────┬───┬──────┘  ┌────────────┐    │  \n",
       "q_2: ┤2      ├──┼────┤ √X ├──────┤ T ├─────────┤0           ├────┼──\n",
       "     └───────┘  │    └────┘┌─────┴───┴──────┐  │            │    │  \n",
       "q_3: ───────────■──────X───┤ U(π/2,π/2,π/2) ├──┤  Rxx(2.31) ├────┼──\n",
       "      ┌─────┐ ┌────┐   │   └────────────────┘  │            │    │  \n",
       "q_4: ─┤ Tdg ├─┤ √X ├───X───────────────────────┤1           ├────■──\n",
       "      └─────┘ └────┘                           └────────────┘       \n",
       "c: 5/═══════════════════════════════════════════════════════════════\n",
       "                                                                    "
      ]
     },
     "execution_count": 5,
     "metadata": {},
     "output_type": "execute_result"
    }
   ],
   "source": [
    "# Visualise\n",
    "circ2 = get_circuit2()\n",
    "circ2.draw(style='iqp')"
   ]
  },
  {
   "cell_type": "markdown",
   "id": "a83efdd7-6223-4c48-9249-275088d31105",
   "metadata": {},
   "source": [
    "## Measurements"
   ]
  },
  {
   "cell_type": "code",
   "execution_count": 6,
   "id": "a4419faf-fc42-4283-92ed-8497e187fb81",
   "metadata": {},
   "outputs": [],
   "source": [
    "def measure(circuit, shots=1, base='zzz'):\n",
    "    \"\"\"Make measurements.\"\"\"\n",
    "    circ = circuit.copy()\n",
    "\n",
    "    # add rotations to measure in a given base\n",
    "    for i, b in enumerate(base):\n",
    "        if b == 'y':\n",
    "            circ.sdg(i)\n",
    "            circ.h(i)\n",
    "        elif b == 'x':\n",
    "            circ.h(i)\n",
    "        elif b == 'z':\n",
    "            pass\n",
    "        else:\n",
    "            raise KeyError\n",
    "\n",
    "    # map the quantum measurement to the classical bits\n",
    "    circ.barrier(range(5))\n",
    "    circ.measure(range(5), range(5))\n",
    "\n",
    "    # Use Aer's qasm_simulator\n",
    "    backend_sim = qiskit_aer.Aer.get_backend('qasm_simulator')\n",
    "\n",
    "    # Execute the circuit on the qasm simulator.\n",
    "    job_sim = backend_sim.run(qiskit.transpile(circ, backend_sim), shots=shots)\n",
    "\n",
    "    counts = job_sim.result().get_counts(circ)\n",
    "    counts = {tuple([int(i) for i in k]): v for k, v in counts.items()}    \n",
    "    results = [k for k, v in counts.items() for _ in range(v)]\n",
    "    \n",
    "    return results"
   ]
  },
  {
   "cell_type": "code",
   "execution_count": 7,
   "id": "52dbea4c-7d92-4440-841a-ef05c88c6d6d",
   "metadata": {},
   "outputs": [
    {
     "data": {
      "text/plain": [
       "[(0, 0, 0, 0, 1),\n",
       " (0, 0, 0, 0, 0),\n",
       " (0, 0, 0, 0, 0),\n",
       " (0, 0, 0, 0, 0),\n",
       " (0, 0, 0, 0, 0),\n",
       " (0, 0, 0, 0, 0),\n",
       " (0, 0, 0, 0, 0),\n",
       " (0, 0, 0, 0, 0),\n",
       " (0, 0, 0, 0, 0),\n",
       " (0, 0, 0, 0, 0)]"
      ]
     },
     "execution_count": 7,
     "metadata": {},
     "output_type": "execute_result"
    }
   ],
   "source": [
    "measure(circ1, shots=10, base='zzxzz')"
   ]
  },
  {
   "cell_type": "code",
   "execution_count": 8,
   "id": "24654b0b-f42f-401d-910b-d2b61e9d7006",
   "metadata": {},
   "outputs": [
    {
     "data": {
      "text/plain": [
       "[(0, 1, 0, 0, 1),\n",
       " (1, 1, 0, 0, 0),\n",
       " (1, 1, 0, 0, 0),\n",
       " (1, 1, 0, 0, 0),\n",
       " (1, 1, 0, 0, 0),\n",
       " (1, 1, 0, 0, 0),\n",
       " (1, 1, 1, 0, 0),\n",
       " (1, 1, 0, 1, 0),\n",
       " (1, 1, 0, 1, 0),\n",
       " (1, 1, 0, 1, 0)]"
      ]
     },
     "execution_count": 8,
     "metadata": {},
     "output_type": "execute_result"
    }
   ],
   "source": [
    "measure(circ2, shots=10, base='zzxzz')"
   ]
  },
  {
   "cell_type": "markdown",
   "id": "c258470c-99ad-444b-8bc2-11059a3e4236",
   "metadata": {},
   "source": [
    "## Agreement"
   ]
  },
  {
   "cell_type": "code",
   "execution_count": 9,
   "id": "86bcc833-7103-42d0-b383-e56d237cbedf",
   "metadata": {},
   "outputs": [
    {
     "data": {
      "text/html": [
       "<div>\n",
       "<style scoped>\n",
       "    .dataframe tbody tr th:only-of-type {\n",
       "        vertical-align: middle;\n",
       "    }\n",
       "\n",
       "    .dataframe tbody tr th {\n",
       "        vertical-align: top;\n",
       "    }\n",
       "\n",
       "    .dataframe thead th {\n",
       "        text-align: right;\n",
       "    }\n",
       "</style>\n",
       "<table border=\"1\" class=\"dataframe\">\n",
       "  <thead>\n",
       "    <tr style=\"text-align: right;\">\n",
       "      <th></th>\n",
       "      <th>base</th>\n",
       "      <th>c1</th>\n",
       "      <th>c2</th>\n",
       "      <th>c1bis</th>\n",
       "      <th>c2bis</th>\n",
       "    </tr>\n",
       "  </thead>\n",
       "  <tbody>\n",
       "    <tr>\n",
       "      <th>0</th>\n",
       "      <td>yyxxz</td>\n",
       "      <td>(0, 1, 0, 0, 0)</td>\n",
       "      <td>(1, 0, 0, 0, 1)</td>\n",
       "      <td>(0, 1, 0, 0, 1)</td>\n",
       "      <td>(1, 0, 0, 0, 1)</td>\n",
       "    </tr>\n",
       "    <tr>\n",
       "      <th>1</th>\n",
       "      <td>zzzyz</td>\n",
       "      <td>(0, 0, 1, 0, 1)</td>\n",
       "      <td>(1, 0, 0, 0, 1)</td>\n",
       "      <td>(0, 0, 1, 0, 0)</td>\n",
       "      <td>(1, 1, 0, 0, 0)</td>\n",
       "    </tr>\n",
       "    <tr>\n",
       "      <th>2</th>\n",
       "      <td>yyyxz</td>\n",
       "      <td>(0, 1, 1, 0, 0)</td>\n",
       "      <td>(1, 1, 0, 0, 0)</td>\n",
       "      <td>(0, 1, 0, 0, 0)</td>\n",
       "      <td>(1, 0, 1, 0, 1)</td>\n",
       "    </tr>\n",
       "    <tr>\n",
       "      <th>3</th>\n",
       "      <td>zxxxx</td>\n",
       "      <td>(0, 0, 0, 1, 1)</td>\n",
       "      <td>(0, 1, 0, 1, 0)</td>\n",
       "      <td>(0, 1, 0, 1, 1)</td>\n",
       "      <td>(0, 1, 0, 1, 0)</td>\n",
       "    </tr>\n",
       "    <tr>\n",
       "      <th>4</th>\n",
       "      <td>yyyyy</td>\n",
       "      <td>(0, 0, 1, 1, 1)</td>\n",
       "      <td>(1, 0, 0, 0, 1)</td>\n",
       "      <td>(1, 1, 0, 1, 1)</td>\n",
       "      <td>(0, 0, 0, 0, 1)</td>\n",
       "    </tr>\n",
       "    <tr>\n",
       "      <th>...</th>\n",
       "      <td>...</td>\n",
       "      <td>...</td>\n",
       "      <td>...</td>\n",
       "      <td>...</td>\n",
       "      <td>...</td>\n",
       "    </tr>\n",
       "    <tr>\n",
       "      <th>995</th>\n",
       "      <td>yzyzy</td>\n",
       "      <td>(1, 0, 1, 0, 0)</td>\n",
       "      <td>(0, 1, 1, 1, 1)</td>\n",
       "      <td>(1, 0, 0, 0, 1)</td>\n",
       "      <td>(0, 1, 0, 0, 0)</td>\n",
       "    </tr>\n",
       "    <tr>\n",
       "      <th>996</th>\n",
       "      <td>xyxyz</td>\n",
       "      <td>(0, 0, 0, 1, 0)</td>\n",
       "      <td>(1, 0, 0, 0, 1)</td>\n",
       "      <td>(0, 1, 0, 1, 0)</td>\n",
       "      <td>(1, 0, 0, 0, 0)</td>\n",
       "    </tr>\n",
       "    <tr>\n",
       "      <th>997</th>\n",
       "      <td>yzzzy</td>\n",
       "      <td>(1, 0, 1, 0, 0)</td>\n",
       "      <td>(0, 1, 0, 1, 0)</td>\n",
       "      <td>(0, 0, 0, 0, 0)</td>\n",
       "      <td>(1, 1, 1, 1, 1)</td>\n",
       "    </tr>\n",
       "    <tr>\n",
       "      <th>998</th>\n",
       "      <td>zxxzy</td>\n",
       "      <td>(1, 0, 0, 1, 0)</td>\n",
       "      <td>(1, 1, 0, 0, 0)</td>\n",
       "      <td>(0, 0, 0, 1, 0)</td>\n",
       "      <td>(0, 1, 0, 0, 0)</td>\n",
       "    </tr>\n",
       "    <tr>\n",
       "      <th>999</th>\n",
       "      <td>zxyxx</td>\n",
       "      <td>(0, 0, 1, 1, 0)</td>\n",
       "      <td>(0, 0, 0, 0, 0)</td>\n",
       "      <td>(1, 0, 1, 1, 1)</td>\n",
       "      <td>(0, 1, 0, 0, 0)</td>\n",
       "    </tr>\n",
       "  </tbody>\n",
       "</table>\n",
       "<p>1000 rows × 5 columns</p>\n",
       "</div>"
      ],
      "text/plain": [
       "      base               c1               c2            c1bis            c2bis\n",
       "0    yyxxz  (0, 1, 0, 0, 0)  (1, 0, 0, 0, 1)  (0, 1, 0, 0, 1)  (1, 0, 0, 0, 1)\n",
       "1    zzzyz  (0, 0, 1, 0, 1)  (1, 0, 0, 0, 1)  (0, 0, 1, 0, 0)  (1, 1, 0, 0, 0)\n",
       "2    yyyxz  (0, 1, 1, 0, 0)  (1, 1, 0, 0, 0)  (0, 1, 0, 0, 0)  (1, 0, 1, 0, 1)\n",
       "3    zxxxx  (0, 0, 0, 1, 1)  (0, 1, 0, 1, 0)  (0, 1, 0, 1, 1)  (0, 1, 0, 1, 0)\n",
       "4    yyyyy  (0, 0, 1, 1, 1)  (1, 0, 0, 0, 1)  (1, 1, 0, 1, 1)  (0, 0, 0, 0, 1)\n",
       "..     ...              ...              ...              ...              ...\n",
       "995  yzyzy  (1, 0, 1, 0, 0)  (0, 1, 1, 1, 1)  (1, 0, 0, 0, 1)  (0, 1, 0, 0, 0)\n",
       "996  xyxyz  (0, 0, 0, 1, 0)  (1, 0, 0, 0, 1)  (0, 1, 0, 1, 0)  (1, 0, 0, 0, 0)\n",
       "997  yzzzy  (1, 0, 1, 0, 0)  (0, 1, 0, 1, 0)  (0, 0, 0, 0, 0)  (1, 1, 1, 1, 1)\n",
       "998  zxxzy  (1, 0, 0, 1, 0)  (1, 1, 0, 0, 0)  (0, 0, 0, 1, 0)  (0, 1, 0, 0, 0)\n",
       "999  zxyxx  (0, 0, 1, 1, 0)  (0, 0, 0, 0, 0)  (1, 0, 1, 1, 1)  (0, 1, 0, 0, 0)\n",
       "\n",
       "[1000 rows x 5 columns]"
      ]
     },
     "execution_count": 9,
     "metadata": {},
     "output_type": "execute_result"
    }
   ],
   "source": [
    "result = []\n",
    "for base in numpy.random.choice(['x', 'y', 'z'], size=5*10**3).reshape(-1, 5):\n",
    "    base = ''.join(base)\n",
    "    m1 = measure(circ1, shots=1, base=base)[0]\n",
    "    m2 = measure(circ2, shots=1, base=base)[0]\n",
    "    \n",
    "    m1b = measure(circ1, shots=1, base=base)[0]\n",
    "    m2b = measure(circ2, shots=1, base=base)[0]\n",
    "    \n",
    "\n",
    "    result.append({'base': base, 'c1': m1, 'c2': m2, 'c1bis': m1b, 'c2bis': m2b})\n",
    "\n",
    "df = pandas.DataFrame(result)\n",
    "df"
   ]
  },
  {
   "cell_type": "markdown",
   "id": "0b1ff660-ae90-4c10-8ba0-778eac89d819",
   "metadata": {},
   "source": [
    "## Agreement"
   ]
  },
  {
   "cell_type": "code",
   "execution_count": 10,
   "id": "2750fa30-dd19-41f2-8fea-d61b8282e58a",
   "metadata": {},
   "outputs": [
    {
     "data": {
      "text/plain": [
       "0.6716"
      ]
     },
     "execution_count": 10,
     "metadata": {},
     "output_type": "execute_result"
    }
   ],
   "source": [
    "# check the same circuit\n",
    "res = []\n",
    "for i, line in df.iterrows():\n",
    "    c1 = line['c1']\n",
    "    c2 = line['c1bis']\n",
    "\n",
    "    for a, b in zip(c1, c2):\n",
    "        res.append(a == b)        \n",
    "\n",
    "numpy.array(res, dtype='int32').mean()"
   ]
  },
  {
   "cell_type": "code",
   "execution_count": 11,
   "id": "9cc5403e-b3f4-4fe1-ba09-07fb6a604098",
   "metadata": {},
   "outputs": [
    {
     "data": {
      "text/plain": [
       "0.6358"
      ]
     },
     "execution_count": 11,
     "metadata": {},
     "output_type": "execute_result"
    }
   ],
   "source": [
    "# check the same circuit\n",
    "res = []\n",
    "for i, line in df.iterrows():\n",
    "    c1 = line['c2']\n",
    "    c2 = line['c2bis']\n",
    "\n",
    "    for a, b in zip(c1, c2):\n",
    "        res.append(a == b)        \n",
    "\n",
    "numpy.array(res, dtype='int32').mean()"
   ]
  },
  {
   "cell_type": "code",
   "execution_count": 12,
   "id": "4287734d-b384-4bd8-956b-72fc9435a917",
   "metadata": {},
   "outputs": [
    {
     "data": {
      "text/plain": [
       "0.4422"
      ]
     },
     "execution_count": 12,
     "metadata": {},
     "output_type": "execute_result"
    }
   ],
   "source": [
    "# check different circuit\n",
    "res = []\n",
    "for i, line in df.iterrows():\n",
    "    c1 = line['c1']\n",
    "    c2 = line['c2']\n",
    "\n",
    "    for a, b in zip(c1, c2):\n",
    "        res.append(a == b)        \n",
    "\n",
    "numpy.array(res, dtype='int32').mean()"
   ]
  },
  {
   "cell_type": "code",
   "execution_count": 13,
   "id": "98ee69c4-87a0-491c-8dbb-f2f106efe0b1",
   "metadata": {},
   "outputs": [
    {
     "data": {
      "text/plain": [
       "0.4422"
      ]
     },
     "execution_count": 13,
     "metadata": {},
     "output_type": "execute_result"
    }
   ],
   "source": [
    "aggreement = lambda d: numpy.array([\n",
    "    [a==b for a, b, in zip(line['c1'], line['c2'])] for _, line in d.iterrows()]).mean()\n",
    "\n",
    "aggreement(df)"
   ]
  },
  {
   "cell_type": "markdown",
   "id": "a213f031-a34a-4411-8f92-0406f68c8825",
   "metadata": {},
   "source": [
    "## Plot"
   ]
  },
  {
   "cell_type": "code",
   "execution_count": 14,
   "id": "4d685ccc-9e4a-4a78-9d57-9f950d470424",
   "metadata": {},
   "outputs": [
    {
     "data": {
      "text/plain": [
       "Text(0, 0.5, 'agreement')"
      ]
     },
     "execution_count": 14,
     "metadata": {},
     "output_type": "execute_result"
    },
    {
     "data": {
      "image/png": "[encoded data removed]",
      "text/plain": [
       "<Figure size 640x480 with 1 Axes>"
      ]
     },
     "metadata": {},
     "output_type": "display_data"
    }
   ],
   "source": [
    "# the same\n",
    "aggreement = lambda d: numpy.array([\n",
    "    [a==b for a, b, in zip(line['c1'], line['c1bis'])] for _, line in d.iterrows()]).mean()\n",
    "\n",
    "x, y = [], []\n",
    "for i in range(1, 1000, 10):\n",
    "    x.append(i)\n",
    "    y.append(aggreement(df.iloc[:i]))\n",
    "\n",
    "plt.plot(x, y, label='the same')\n",
    "\n",
    "# different\n",
    "aggreement = lambda d: numpy.array([\n",
    "    [a==b for a, b, in zip(line['c1'], line['c2'])] for _, line in d.iterrows()]).mean()\n",
    "\n",
    "x, y = [], []\n",
    "for i in range(1, 1000, 10):\n",
    "    x.append(i)\n",
    "    y.append(aggreement(df.iloc[:i]))\n",
    "\n",
    "plt.plot(x, y, label='different')\n",
    "\n",
    "plt.legend()\n",
    "plt.xlabel('number of measurements')\n",
    "plt.ylabel('agreement')"
   ]
  },
  {
   "cell_type": "code",
   "execution_count": 15,
   "id": "a0412747-dba7-44d1-9908-31b70465be73",
   "metadata": {},
   "outputs": [
    {
     "data": {
      "text/plain": [
       "Text(0, 0.5, 'agreement')"
      ]
     },
     "execution_count": 15,
     "metadata": {},
     "output_type": "execute_result"
    },
    {
     "data": {
      "image/png": "[encoded data removed]",
      "text/plain": [
       "<Figure size 640x480 with 1 Axes>"
      ]
     },
     "metadata": {},
     "output_type": "display_data"
    }
   ],
   "source": [
    "# the same\n",
    "aggreement = lambda d: numpy.array([\n",
    "    [a==b for a, b, in zip(line['c2'], line['c2bis'])] for _, line in d.iterrows()]).mean()\n",
    "\n",
    "x, y = [], []\n",
    "for i in range(1, 1000, 10):\n",
    "    x.append(i)\n",
    "    y.append(aggreement(df.iloc[:i]))\n",
    "\n",
    "plt.plot(x, y, label='the same')\n",
    "\n",
    "# different\n",
    "aggreement = lambda d: numpy.array([\n",
    "    [a==b for a, b, in zip(line['c1bis'], line['c2bis'])] for _, line in d.iterrows()]).mean()\n",
    "\n",
    "x, y = [], []\n",
    "for i in range(1, 1000, 10):\n",
    "    x.append(i)\n",
    "    y.append(aggreement(df.iloc[:i]))\n",
    "\n",
    "plt.plot(x, y, label='different')\n",
    "\n",
    "plt.legend()\n",
    "plt.xlabel('number of measurements')\n",
    "plt.ylabel('agreement')"
   ]
  }
 ],
 "metadata": {
  "kernelspec": {
   "display_name": "Python 3 (ipykernel)",
   "language": "python",
   "name": "python3"
  },
  "language_info": {
   "codemirror_mode": {
    "name": "ipython",
    "version": 3
   },
   "file_extension": ".py",
   "mimetype": "text/x-python",
   "name": "python",
   "nbconvert_exporter": "python",
   "pygments_lexer": "ipython3",
   "version": "3.10.12"
  }
 },
 "nbformat": 4,
 "nbformat_minor": 5
}
